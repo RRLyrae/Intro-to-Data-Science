{
 "cells": [
  {
   "cell_type": "code",
   "execution_count": 9,
   "id": "5089cfbe",
   "metadata": {},
   "outputs": [],
   "source": [
    "import pandas as pd\n",
    "df = pd.read_csv('covid_data_22-09-2021_2-full.csv')"
   ]
  },
  {
   "cell_type": "code",
   "execution_count": 10,
   "id": "88dd1016",
   "metadata": {},
   "outputs": [],
   "source": [
    "high =  df[(df['proportion infected'] > 4000)]\n",
    "low = df[(df['proportion infected'] < 4000)]"
   ]
  },
  {
   "cell_type": "code",
   "execution_count": 11,
   "id": "0c89c8f6",
   "metadata": {},
   "outputs": [],
   "source": [
    "categories = list()\n",
    "for i in df['proportion infected'].values:\n",
    "    if i > 4000:\n",
    "        categories.append('high')\n",
    "    else:\n",
    "        categories.append('low')\n",
    "    \n",
    "df.insert(4, \"category\", categories, True)"
   ]
  },
  {
   "cell_type": "code",
   "execution_count": 12,
   "id": "df5a08c2",
   "metadata": {},
   "outputs": [],
   "source": [
    "from sklearn.preprocessing import normalize\n",
    "data = df[['GDP', 'Population Density', 'Literacy', 'Employment', 'Population 65 +', 'Foreigners']]\n",
    "labels = df['category']"
   ]
  },
  {
   "cell_type": "code",
   "execution_count": 13,
   "id": "e602f7e9",
   "metadata": {},
   "outputs": [],
   "source": [
    "train_set_data = data[:70]\n",
    "train_set_labels = labels[:70]\n",
    "test_set_data = data[70:]\n",
    "test_set_labels = labels[70:]"
   ]
  },
  {
   "cell_type": "code",
   "execution_count": 14,
   "id": "04d2b863",
   "metadata": {},
   "outputs": [
    {
     "data": {
      "text/plain": [
       "LogisticRegression(multi_class='multinomial')"
      ]
     },
     "execution_count": 14,
     "metadata": {},
     "output_type": "execute_result"
    }
   ],
   "source": [
    "from sklearn.linear_model import LogisticRegression\n",
    "X, y = train_set_data, train_set_labels\n",
    "model = LogisticRegression(multi_class = 'multinomial')\n",
    "model.fit(X, y)"
   ]
  },
  {
   "cell_type": "code",
   "execution_count": 15,
   "id": "135dfdbd",
   "metadata": {},
   "outputs": [],
   "source": [
    "test_set_labels_new = model.predict(test_set_data)\n",
    "count = 0\n",
    "countries = df['Country'].values\n",
    "test_set_labels = test_set_labels.values\n",
    "for i in range(len(test_set_data)):\n",
    "    #print(\"X=%s, Predicted=%s, Reel=%s\" % (countries[i+70], test_set_labels_new[i], test_set_labels[i]))\n",
    "    if test_set_labels_new[i] != test_set_labels[i]:\n",
    "        count += 1"
   ]
  },
  {
   "cell_type": "markdown",
   "id": "e1cbecb8",
   "metadata": {},
   "source": [
    "# How well would your country deal with a virus like covid?\n",
    "\n",
    "How well would your country deal with a virus like covid if you look at a few variables that are specific for your country? Change the variables in the widget below to find out!\n",
    "\n",
    "The barrier between high and low infection rate is 4,000 out of 100,000 people and variables used are explained in the documentation below:"
   ]
  },
  {
   "cell_type": "markdown",
   "id": "96cd533d",
   "metadata": {},
   "source": [
    "GDP = Gross Domestic Product in USD Billions"
   ]
  },
  {
   "cell_type": "markdown",
   "id": "adc371cc",
   "metadata": {},
   "source": [
    "Density = Population density, amount of people per square kilometer"
   ]
  },
  {
   "cell_type": "markdown",
   "id": "26009c8e",
   "metadata": {},
   "source": [
    "Literacy = percentage of people 15 and over who can read and write"
   ]
  },
  {
   "cell_type": "markdown",
   "id": "28adbb63",
   "metadata": {},
   "source": [
    "Employment = percentage of economically active people who are also employed in a county"
   ]
  },
  {
   "cell_type": "markdown",
   "id": "3baa0c25",
   "metadata": {},
   "source": [
    "Over65 = percentage of the population that is 65 years old and older"
   ]
  },
  {
   "cell_type": "markdown",
   "id": "fbe2e583",
   "metadata": {},
   "source": [
    "Non_natives = percentage of the population that is comprised of foreigners"
   ]
  },
  {
   "cell_type": "code",
   "execution_count": 16,
   "id": "bb66408e",
   "metadata": {},
   "outputs": [
    {
     "data": {
      "application/vnd.jupyter.widget-view+json": {
       "model_id": "a6ae8c2ad2ef47e29700719d30288b81",
       "version_major": 2,
       "version_minor": 0
      },
      "text/plain": [
       "interactive(children=(IntSlider(value=10500, description='GDP', max=21000), IntSlider(value=626, description='…"
      ]
     },
     "metadata": {},
     "output_type": "display_data"
    },
    {
     "data": {
      "text/plain": [
       "<function __main__.machine(GDP, Density, Literacy, Employment, Over65, Non_natives)>"
      ]
     },
     "execution_count": 16,
     "metadata": {},
     "output_type": "execute_result"
    }
   ],
   "source": [
    "from ipywidgets import interact\n",
    "import matplotlib.pyplot as plt\n",
    "import matplotlib.image as mpimg\n",
    "\n",
    "\n",
    "def machine(GDP, Density, Literacy, Employment, Over65, Non_natives):\n",
    "    if (model.predict([[GDP, Density, Literacy, Employment, Over65, Non_natives]])[0]) == 'low':\n",
    "        print('Low infection rate')\n",
    "        img = mpimg.imread('green.jpg')\n",
    "        imgplot = plt.imshow(img)\n",
    "        imgplot.axes.get_xaxis().set_visible(False)\n",
    "        imgplot.axes.get_yaxis().set_visible(False)\n",
    "        plt.show()\n",
    "    else:\n",
    "        print('High infection rate')\n",
    "        img = mpimg.imread('red.jpg')\n",
    "        imgplot = plt.imshow(img)\n",
    "        imgplot.axes.get_xaxis().set_visible(False)\n",
    "        imgplot.axes.get_yaxis().set_visible(False)\n",
    "        plt.show()\n",
    "\n",
    "interact(machine, GDP=(0, 21000, 1), Density = (0, 1252, 1), Literacy = (0, 1, 0.01), Employment = (0, 1, 0.01), Over65 =  (0, 1, 0.01), Non_natives =  (0, 1, 0.01))"
   ]
  },
  {
   "cell_type": "markdown",
   "id": "870627d8",
   "metadata": {},
   "source": [
    "Pictures used: https://www.shutterstock.com/nl/image-vector/thumb-down-flat-icon-vector-illustration-1557854771"
   ]
  },
  {
   "cell_type": "code",
   "execution_count": null,
   "id": "bfcf9bd1",
   "metadata": {},
   "outputs": [],
   "source": []
  }
 ],
 "metadata": {
  "kernelspec": {
   "display_name": "Python 3",
   "language": "python",
   "name": "python3"
  },
  "language_info": {
   "codemirror_mode": {
    "name": "ipython",
    "version": 3
   },
   "file_extension": ".py",
   "mimetype": "text/x-python",
   "name": "python",
   "nbconvert_exporter": "python",
   "pygments_lexer": "ipython3",
   "version": "3.6.5"
  }
 },
 "nbformat": 4,
 "nbformat_minor": 5
}
