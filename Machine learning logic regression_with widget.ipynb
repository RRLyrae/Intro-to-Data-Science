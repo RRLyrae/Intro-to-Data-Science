{
 "cells": [
  {
   "cell_type": "markdown",
   "id": "c858d66d",
   "metadata": {},
   "source": [
    "## Correlation for proportion infected"
   ]
  },
  {
   "cell_type": "code",
   "execution_count": 15,
   "id": "10aa017a",
   "metadata": {},
   "outputs": [
    {
     "name": "stdout",
     "output_type": "stream",
     "text": [
      "(149, 13)\n"
     ]
    }
   ],
   "source": [
    "import pandas as pd\n",
    "df = pd.read_csv('covid_data_22-09-2021_2-full.csv')\n",
    "print(df.shape)"
   ]
  },
  {
   "cell_type": "markdown",
   "id": "a87abbe2",
   "metadata": {},
   "source": [
    "First of all, split the countries in to two categories: high and low. So the countries who are going to be in the category 'high', have a high proportion infected and the countries who are going to be in the category 'low', have a low proportion infected. (You can play around with the value that is now 4000 to make other ratios of low and high countries.)"
   ]
  },
  {
   "cell_type": "code",
   "execution_count": 16,
   "id": "409a358d",
   "metadata": {},
   "outputs": [
    {
     "name": "stdout",
     "output_type": "stream",
     "text": [
      "(76, 13)\n",
      "(73, 13)\n"
     ]
    }
   ],
   "source": [
    "high =  df[(df['proportion infected'] > 4000)]\n",
    "low = df[(df['proportion infected'] < 4000)]\n",
    "\n",
    "print(high.shape)\n",
    "print(low.shape)"
   ]
  },
  {
   "cell_type": "markdown",
   "id": "a1fe3a59",
   "metadata": {},
   "source": [
    "Then make a new column in the dataframe with the categories."
   ]
  },
  {
   "cell_type": "code",
   "execution_count": 17,
   "id": "79c710de",
   "metadata": {},
   "outputs": [
    {
     "data": {
      "text/html": [
       "<div>\n",
       "<style scoped>\n",
       "    .dataframe tbody tr th:only-of-type {\n",
       "        vertical-align: middle;\n",
       "    }\n",
       "\n",
       "    .dataframe tbody tr th {\n",
       "        vertical-align: top;\n",
       "    }\n",
       "\n",
       "    .dataframe thead th {\n",
       "        text-align: right;\n",
       "    }\n",
       "</style>\n",
       "<table border=\"1\" class=\"dataframe\">\n",
       "  <thead>\n",
       "    <tr style=\"text-align: right;\">\n",
       "      <th></th>\n",
       "      <th>Unnamed: 0</th>\n",
       "      <th>Country</th>\n",
       "      <th>Confirmed</th>\n",
       "      <th>proportion infected</th>\n",
       "      <th>category</th>\n",
       "      <th>Deaths</th>\n",
       "      <th>GDP</th>\n",
       "      <th>Population Density</th>\n",
       "      <th>2021 Population</th>\n",
       "      <th>Area</th>\n",
       "      <th>Literacy</th>\n",
       "      <th>Employment</th>\n",
       "      <th>Population 65 +</th>\n",
       "      <th>Foreigners</th>\n",
       "    </tr>\n",
       "  </thead>\n",
       "  <tbody>\n",
       "    <tr>\n",
       "      <th>0</th>\n",
       "      <td>0</td>\n",
       "      <td>Albania</td>\n",
       "      <td>165096</td>\n",
       "      <td>5746.60</td>\n",
       "      <td>high</td>\n",
       "      <td>2601</td>\n",
       "      <td>14.80</td>\n",
       "      <td>100</td>\n",
       "      <td>2872933</td>\n",
       "      <td>28748</td>\n",
       "      <td>0.972489</td>\n",
       "      <td>0.707484</td>\n",
       "      <td>0.147591</td>\n",
       "      <td>0.018337</td>\n",
       "    </tr>\n",
       "    <tr>\n",
       "      <th>1</th>\n",
       "      <td>1</td>\n",
       "      <td>Algeria</td>\n",
       "      <td>202122</td>\n",
       "      <td>453.02</td>\n",
       "      <td>low</td>\n",
       "      <td>5739</td>\n",
       "      <td>145.00</td>\n",
       "      <td>19</td>\n",
       "      <td>44616624</td>\n",
       "      <td>2381741</td>\n",
       "      <td>0.774214</td>\n",
       "      <td>0.896187</td>\n",
       "      <td>0.053393</td>\n",
       "      <td>0.003512</td>\n",
       "    </tr>\n",
       "    <tr>\n",
       "      <th>2</th>\n",
       "      <td>2</td>\n",
       "      <td>Antigua and Barbuda</td>\n",
       "      <td>2625</td>\n",
       "      <td>2658.74</td>\n",
       "      <td>low</td>\n",
       "      <td>57</td>\n",
       "      <td>1.42</td>\n",
       "      <td>223</td>\n",
       "      <td>98731</td>\n",
       "      <td>442</td>\n",
       "      <td>0.990000</td>\n",
       "      <td>0.994403</td>\n",
       "      <td>0.088592</td>\n",
       "      <td>0.296995</td>\n",
       "    </tr>\n",
       "    <tr>\n",
       "      <th>3</th>\n",
       "      <td>3</td>\n",
       "      <td>Argentina</td>\n",
       "      <td>5245265</td>\n",
       "      <td>11501.30</td>\n",
       "      <td>high</td>\n",
       "      <td>114684</td>\n",
       "      <td>383.00</td>\n",
       "      <td>16</td>\n",
       "      <td>45605826</td>\n",
       "      <td>2780400</td>\n",
       "      <td>0.980849</td>\n",
       "      <td>0.938704</td>\n",
       "      <td>0.116861</td>\n",
       "      <td>0.045017</td>\n",
       "    </tr>\n",
       "    <tr>\n",
       "      <th>4</th>\n",
       "      <td>4</td>\n",
       "      <td>Armenia</td>\n",
       "      <td>254709</td>\n",
       "      <td>8581.47</td>\n",
       "      <td>high</td>\n",
       "      <td>5181</td>\n",
       "      <td>12.65</td>\n",
       "      <td>100</td>\n",
       "      <td>2968127</td>\n",
       "      <td>29743</td>\n",
       "      <td>0.996145</td>\n",
       "      <td>0.783675</td>\n",
       "      <td>0.119087</td>\n",
       "      <td>0.065531</td>\n",
       "    </tr>\n",
       "    <tr>\n",
       "      <th>...</th>\n",
       "      <td>...</td>\n",
       "      <td>...</td>\n",
       "      <td>...</td>\n",
       "      <td>...</td>\n",
       "      <td>...</td>\n",
       "      <td>...</td>\n",
       "      <td>...</td>\n",
       "      <td>...</td>\n",
       "      <td>...</td>\n",
       "      <td>...</td>\n",
       "      <td>...</td>\n",
       "      <td>...</td>\n",
       "      <td>...</td>\n",
       "      <td>...</td>\n",
       "    </tr>\n",
       "    <tr>\n",
       "      <th>144</th>\n",
       "      <td>144</td>\n",
       "      <td>Uruguay</td>\n",
       "      <td>388068</td>\n",
       "      <td>11134.90</td>\n",
       "      <td>high</td>\n",
       "      <td>6049</td>\n",
       "      <td>53.63</td>\n",
       "      <td>19</td>\n",
       "      <td>3485151</td>\n",
       "      <td>181034</td>\n",
       "      <td>0.949552</td>\n",
       "      <td>0.936522</td>\n",
       "      <td>0.147933</td>\n",
       "      <td>0.023435</td>\n",
       "    </tr>\n",
       "    <tr>\n",
       "      <th>145</th>\n",
       "      <td>145</td>\n",
       "      <td>Venezuela</td>\n",
       "      <td>358462</td>\n",
       "      <td>1248.78</td>\n",
       "      <td>low</td>\n",
       "      <td>4346</td>\n",
       "      <td>482.00</td>\n",
       "      <td>31</td>\n",
       "      <td>28704954</td>\n",
       "      <td>916445</td>\n",
       "      <td>0.950790</td>\n",
       "      <td>0.911165</td>\n",
       "      <td>0.072738</td>\n",
       "      <td>0.042478</td>\n",
       "    </tr>\n",
       "    <tr>\n",
       "      <th>146</th>\n",
       "      <td>146</td>\n",
       "      <td>Vietnam</td>\n",
       "      <td>718963</td>\n",
       "      <td>732.37</td>\n",
       "      <td>low</td>\n",
       "      <td>17781</td>\n",
       "      <td>271.00</td>\n",
       "      <td>296</td>\n",
       "      <td>98168833</td>\n",
       "      <td>331212</td>\n",
       "      <td>0.938753</td>\n",
       "      <td>0.970942</td>\n",
       "      <td>0.077089</td>\n",
       "      <td>0.089552</td>\n",
       "    </tr>\n",
       "    <tr>\n",
       "      <th>147</th>\n",
       "      <td>147</td>\n",
       "      <td>Zambia</td>\n",
       "      <td>208676</td>\n",
       "      <td>1102.90</td>\n",
       "      <td>low</td>\n",
       "      <td>3639</td>\n",
       "      <td>19.32</td>\n",
       "      <td>25</td>\n",
       "      <td>18920651</td>\n",
       "      <td>752612</td>\n",
       "      <td>0.815428</td>\n",
       "      <td>0.877331</td>\n",
       "      <td>0.026461</td>\n",
       "      <td>0.009907</td>\n",
       "    </tr>\n",
       "    <tr>\n",
       "      <th>148</th>\n",
       "      <td>148</td>\n",
       "      <td>Zimbabwe</td>\n",
       "      <td>128804</td>\n",
       "      <td>853.45</td>\n",
       "      <td>low</td>\n",
       "      <td>4592</td>\n",
       "      <td>16.77</td>\n",
       "      <td>39</td>\n",
       "      <td>15092171</td>\n",
       "      <td>390757</td>\n",
       "      <td>0.865000</td>\n",
       "      <td>0.883405</td>\n",
       "      <td>0.040709</td>\n",
       "      <td>0.089552</td>\n",
       "    </tr>\n",
       "  </tbody>\n",
       "</table>\n",
       "<p>149 rows × 14 columns</p>\n",
       "</div>"
      ],
      "text/plain": [
       "     Unnamed: 0              Country  Confirmed  proportion infected category  \\\n",
       "0             0              Albania     165096              5746.60     high   \n",
       "1             1              Algeria     202122               453.02      low   \n",
       "2             2  Antigua and Barbuda       2625              2658.74      low   \n",
       "3             3            Argentina    5245265             11501.30     high   \n",
       "4             4              Armenia     254709              8581.47     high   \n",
       "..          ...                  ...        ...                  ...      ...   \n",
       "144         144              Uruguay     388068             11134.90     high   \n",
       "145         145            Venezuela     358462              1248.78      low   \n",
       "146         146              Vietnam     718963               732.37      low   \n",
       "147         147               Zambia     208676              1102.90      low   \n",
       "148         148             Zimbabwe     128804               853.45      low   \n",
       "\n",
       "     Deaths     GDP  Population Density  2021 Population     Area  Literacy  \\\n",
       "0      2601   14.80                 100          2872933    28748  0.972489   \n",
       "1      5739  145.00                  19         44616624  2381741  0.774214   \n",
       "2        57    1.42                 223            98731      442  0.990000   \n",
       "3    114684  383.00                  16         45605826  2780400  0.980849   \n",
       "4      5181   12.65                 100          2968127    29743  0.996145   \n",
       "..      ...     ...                 ...              ...      ...       ...   \n",
       "144    6049   53.63                  19          3485151   181034  0.949552   \n",
       "145    4346  482.00                  31         28704954   916445  0.950790   \n",
       "146   17781  271.00                 296         98168833   331212  0.938753   \n",
       "147    3639   19.32                  25         18920651   752612  0.815428   \n",
       "148    4592   16.77                  39         15092171   390757  0.865000   \n",
       "\n",
       "     Employment  Population 65 +  Foreigners  \n",
       "0      0.707484         0.147591    0.018337  \n",
       "1      0.896187         0.053393    0.003512  \n",
       "2      0.994403         0.088592    0.296995  \n",
       "3      0.938704         0.116861    0.045017  \n",
       "4      0.783675         0.119087    0.065531  \n",
       "..          ...              ...         ...  \n",
       "144    0.936522         0.147933    0.023435  \n",
       "145    0.911165         0.072738    0.042478  \n",
       "146    0.970942         0.077089    0.089552  \n",
       "147    0.877331         0.026461    0.009907  \n",
       "148    0.883405         0.040709    0.089552  \n",
       "\n",
       "[149 rows x 14 columns]"
      ]
     },
     "execution_count": 17,
     "metadata": {},
     "output_type": "execute_result"
    }
   ],
   "source": [
    "categories = list()\n",
    "for i in df['proportion infected'].values:\n",
    "    if i > 4000:\n",
    "        categories.append('high')\n",
    "    else:\n",
    "        categories.append('low')\n",
    "    \n",
    "df.insert(4, \"category\", categories, True)\n",
    "df"
   ]
  },
  {
   "cell_type": "code",
   "execution_count": 18,
   "id": "281ba115",
   "metadata": {},
   "outputs": [
    {
     "name": "stdout",
     "output_type": "stream",
     "text": [
      "    Unnamed: 0  Country  Confirmed  proportion infected category  Deaths  \\\n",
      "12          12  Belgium    1229236             10567.41     high   25533   \n",
      "\n",
      "      GDP  Population Density  2021 Population   Area  Literacy  Employment  \\\n",
      "12  515.0                 381         11632326  30528      0.99    0.917029   \n",
      "\n",
      "    Population 65 +  Foreigners  \n",
      "12         0.189032    0.148065  \n"
     ]
    }
   ],
   "source": [
    "print(df[df['Country'] == 'Belgium'])"
   ]
  },
  {
   "cell_type": "markdown",
   "id": "b91a5423",
   "metadata": {},
   "source": [
    "Then we make a dataframe with only the data, the features, that we want to use to do the logistic regression with. And we also make a dataframe of only the categories, these are the labels."
   ]
  },
  {
   "cell_type": "code",
   "execution_count": 19,
   "id": "8b747d78",
   "metadata": {},
   "outputs": [],
   "source": [
    "from sklearn.preprocessing import normalize\n",
    "data = df[['GDP', 'Population Density', 'Literacy', 'Employment', 'Population 65 +', 'Foreigners']]\n",
    "labels = df['category']"
   ]
  },
  {
   "cell_type": "markdown",
   "id": "2f97d2da",
   "metadata": {},
   "source": [
    "Then we split up the data and the labels into a training and testing set. (Here you can also play with different amount of training and testing sets) "
   ]
  },
  {
   "cell_type": "code",
   "execution_count": 29,
   "id": "dd4982d0",
   "metadata": {},
   "outputs": [],
   "source": [
    "train_set_data = data[:70]\n",
    "train_set_labels = labels[:70]\n",
    "test_set_data = data[70:]\n",
    "test_set_labels = labels[70:]"
   ]
  },
  {
   "cell_type": "markdown",
   "id": "77468eff",
   "metadata": {},
   "source": [
    "Now we fit the training data in the model."
   ]
  },
  {
   "cell_type": "code",
   "execution_count": 30,
   "id": "cf497817",
   "metadata": {},
   "outputs": [
    {
     "data": {
      "text/plain": [
       "LogisticRegression(multi_class='multinomial')"
      ]
     },
     "execution_count": 30,
     "metadata": {},
     "output_type": "execute_result"
    }
   ],
   "source": [
    "from sklearn.linear_model import LogisticRegression\n",
    "X, y = train_set_data, train_set_labels\n",
    "model = LogisticRegression(multi_class = 'multinomial')\n",
    "model.fit(X, y)"
   ]
  },
  {
   "cell_type": "markdown",
   "id": "11e02822",
   "metadata": {},
   "source": [
    "Now we are going to calculate the coefficients to see where there are correlations in the features and the categories."
   ]
  },
  {
   "cell_type": "code",
   "execution_count": 31,
   "id": "078a4675",
   "metadata": {},
   "outputs": [
    {
     "name": "stdout",
     "output_type": "stream",
     "text": [
      "['high' 'low']\n",
      "[[ 8.88663035e-05 -9.29588382e-05 -1.45263869e+00  7.10454311e-01\n",
      "  -5.70554126e-01 -3.11009066e-01]]\n"
     ]
    }
   ],
   "source": [
    "print(model.classes_)\n",
    "print(model.coef_)"
   ]
  },
  {
   "cell_type": "markdown",
   "id": "ba218239",
   "metadata": {},
   "source": [
    "We also going to test the model with the testing set and count how many countries are wrong categorised."
   ]
  },
  {
   "cell_type": "code",
   "execution_count": 32,
   "id": "e47ab9f3",
   "metadata": {},
   "outputs": [
    {
     "name": "stdout",
     "output_type": "stream",
     "text": [
      "X=Laos, Predicted=high, Reel=low\n",
      "X=Latvia, Predicted=high, Reel=high\n",
      "X=Lesotho, Predicted=low, Reel=low\n",
      "X=Liberia, Predicted=low, Reel=low\n",
      "X=Libya, Predicted=high, Reel=high\n",
      "X=Liechtenstein, Predicted=high, Reel=high\n",
      "X=Lithuania, Predicted=high, Reel=high\n",
      "X=Luxembourg, Predicted=high, Reel=high\n",
      "X=Malawi, Predicted=low, Reel=low\n",
      "X=Malaysia, Predicted=high, Reel=high\n",
      "X=Maldives, Predicted=high, Reel=high\n",
      "X=Mali, Predicted=low, Reel=low\n",
      "X=Malta, Predicted=high, Reel=high\n",
      "X=Marshall Islands, Predicted=low, Reel=low\n",
      "X=Mauritania, Predicted=low, Reel=low\n",
      "X=Mauritius, Predicted=high, Reel=low\n",
      "X=Mexico, Predicted=low, Reel=low\n",
      "X=Micronesia, Predicted=high, Reel=low\n",
      "X=Moldova, Predicted=high, Reel=high\n",
      "X=Mongolia, Predicted=high, Reel=high\n",
      "X=Montenegro, Predicted=high, Reel=high\n",
      "X=Morocco, Predicted=low, Reel=low\n",
      "X=Mozambique, Predicted=low, Reel=low\n",
      "X=Namibia, Predicted=high, Reel=high\n",
      "X=Nepal, Predicted=low, Reel=low\n",
      "X=Netherlands, Predicted=high, Reel=high\n",
      "X=New Zealand, Predicted=high, Reel=low\n",
      "X=Nicaragua, Predicted=low, Reel=low\n",
      "X=Niger, Predicted=low, Reel=low\n",
      "X=Nigeria, Predicted=low, Reel=low\n",
      "X=North Macedonia, Predicted=high, Reel=high\n",
      "X=Norway, Predicted=high, Reel=low\n",
      "X=Oman, Predicted=high, Reel=high\n",
      "X=Pakistan, Predicted=low, Reel=low\n",
      "X=Palau, Predicted=high, Reel=low\n",
      "X=Panama, Predicted=high, Reel=high\n",
      "X=Papua New Guinea, Predicted=low, Reel=low\n",
      "X=Paraguay, Predicted=high, Reel=high\n",
      "X=Peru, Predicted=high, Reel=high\n",
      "X=Philippines, Predicted=high, Reel=low\n",
      "X=Poland, Predicted=high, Reel=high\n",
      "X=Portugal, Predicted=high, Reel=high\n",
      "X=Qatar, Predicted=high, Reel=high\n",
      "X=Romania, Predicted=high, Reel=high\n",
      "X=Russia, Predicted=high, Reel=high\n",
      "X=Rwanda, Predicted=low, Reel=low\n",
      "X=Saint Lucia, Predicted=high, Reel=high\n",
      "X=Saint Vincent and the Grenadines, Predicted=high, Reel=low\n",
      "X=Samoa, Predicted=high, Reel=low\n",
      "X=Sao Tome and Principe, Predicted=high, Reel=low\n",
      "X=Saudi Arabia, Predicted=high, Reel=low\n",
      "X=Serbia, Predicted=high, Reel=high\n",
      "X=Seychelles, Predicted=high, Reel=high\n",
      "X=Sierra Leone, Predicted=low, Reel=low\n",
      "X=Singapore, Predicted=high, Reel=low\n",
      "X=Slovakia, Predicted=high, Reel=high\n",
      "X=Slovenia, Predicted=high, Reel=high\n",
      "X=South Africa, Predicted=high, Reel=high\n",
      "X=South Korea, Predicted=high, Reel=low\n",
      "X=Spain, Predicted=high, Reel=high\n",
      "X=Sri Lanka, Predicted=high, Reel=low\n",
      "X=Suriname, Predicted=low, Reel=high\n",
      "X=Sweden, Predicted=high, Reel=high\n",
      "X=Switzerland, Predicted=high, Reel=high\n",
      "X=Tajikistan, Predicted=high, Reel=low\n",
      "X=Tanzania, Predicted=low, Reel=low\n",
      "X=Thailand, Predicted=high, Reel=low\n",
      "X=Timor-Leste, Predicted=low, Reel=low\n",
      "X=Tunisia, Predicted=low, Reel=high\n",
      "X=Turkey, Predicted=high, Reel=high\n",
      "X=Uganda, Predicted=low, Reel=low\n",
      "X=Ukraine, Predicted=high, Reel=high\n",
      "X=United Kingdom, Predicted=high, Reel=high\n",
      "X=United States, Predicted=low, Reel=high\n",
      "X=Uruguay, Predicted=high, Reel=high\n",
      "X=Venezuela, Predicted=high, Reel=low\n",
      "X=Vietnam, Predicted=high, Reel=low\n",
      "X=Zambia, Predicted=low, Reel=low\n",
      "X=Zimbabwe, Predicted=high, Reel=low\n",
      "22\n"
     ]
    }
   ],
   "source": [
    "test_set_labels_new = model.predict(test_set_data)\n",
    "count = 0\n",
    "countries = df['Country'].values\n",
    "test_set_labels = test_set_labels.values\n",
    "for i in range(len(test_set_data)):\n",
    "    print(\"X=%s, Predicted=%s, Reel=%s\" % (countries[i+70], test_set_labels_new[i], test_set_labels[i]))\n",
    "    if test_set_labels_new[i] != test_set_labels[i]:\n",
    "        count += 1\n",
    "print(count)"
   ]
  },
  {
   "cell_type": "markdown",
   "id": "778656eb",
   "metadata": {},
   "source": [
    "Then we make a score to see what the accuracy is of the model."
   ]
  },
  {
   "cell_type": "code",
   "execution_count": 33,
   "id": "b9623e74",
   "metadata": {},
   "outputs": [
    {
     "name": "stdout",
     "output_type": "stream",
     "text": [
      "0.7215189873417721\n"
     ]
    }
   ],
   "source": [
    "print(model.score(test_set_data, test_set_labels))"
   ]
  },
  {
   "cell_type": "code",
   "execution_count": 39,
   "id": "b1eab7cb",
   "metadata": {},
   "outputs": [
    {
     "name": "stdout",
     "output_type": "stream",
     "text": [
      "low\n"
     ]
    }
   ],
   "source": [
    "print(model.predict([[23.59, 20, 0.5458, 0.896, 0.049, 0.08955]])[0])"
   ]
  },
  {
   "cell_type": "code",
   "execution_count": 41,
   "id": "739642b0",
   "metadata": {},
   "outputs": [
    {
     "data": {
      "application/vnd.jupyter.widget-view+json": {
       "model_id": "d9b73e0cdba14e36b2f2d41b620947a0",
       "version_major": 2,
       "version_minor": 0
      },
      "text/plain": [
       "interactive(children=(IntSlider(value=500, description='gdp', max=1000), IntSlider(value=250, description='pop…"
      ]
     },
     "metadata": {},
     "output_type": "display_data"
    },
    {
     "data": {
      "text/plain": [
       "<function __main__.machine(gdp, popdens, lit, emp, old, foreign)>"
      ]
     },
     "execution_count": 41,
     "metadata": {},
     "output_type": "execute_result"
    }
   ],
   "source": [
    "from ipywidgets import interact\n",
    "\n",
    "def machine(gdp, popdens, lit, emp, old, foreign):\n",
    "    print(model.predict([[gdp, popdens, lit, emp, old, foreign]])[0])\n",
    "\n",
    "interact(machine, gdp=(0, 1000, 1), popdens = (0, 500, 1), lit = (0, 1, 0.01), emp = (0, 1, 0.01), old =  (0, 1, 0.01), foreign =  (0, 1, 0.01))"
   ]
  },
  {
   "cell_type": "markdown",
   "id": "988797ef",
   "metadata": {},
   "source": [
    "## Correlation with deaths"
   ]
  },
  {
   "cell_type": "markdown",
   "id": "32c18b25",
   "metadata": {},
   "source": [
    "Exactly the same as above but now with the proportions of deaths in a country. So I first made another column that gives you the proportion of deaths."
   ]
  },
  {
   "cell_type": "code",
   "execution_count": 114,
   "id": "7a7cd4d2",
   "metadata": {},
   "outputs": [
    {
     "name": "stdout",
     "output_type": "stream",
     "text": [
      "(149, 13)\n"
     ]
    }
   ],
   "source": [
    "import pandas as pd\n",
    "df = pd.read_csv('covid_data_22-09-2021_2-full.csv')\n",
    "print(df.shape)\n",
    "proportion_deaths = list()\n",
    "popu = df['2021 Population'].values\n",
    "for index, i in enumerate(df['Deaths'].values):\n",
    "    proportion_deaths.append((i/popu[index])*100000)\n",
    "    \n",
    "df.insert(4, \"deaths_prop\", proportion_deaths, True)"
   ]
  },
  {
   "cell_type": "code",
   "execution_count": 115,
   "id": "f9a82138",
   "metadata": {},
   "outputs": [
    {
     "name": "stdout",
     "output_type": "stream",
     "text": [
      "(74, 14)\n",
      "(75, 14)\n"
     ]
    }
   ],
   "source": [
    "high =  df[(df['deaths_prop'] >60)]\n",
    "low = df[(df['deaths_prop'] < 60)]\n",
    "\n",
    "print(high.shape)\n",
    "print(low.shape)"
   ]
  },
  {
   "cell_type": "code",
   "execution_count": 116,
   "id": "5b8a6328",
   "metadata": {},
   "outputs": [
    {
     "data": {
      "text/html": [
       "<div>\n",
       "<style scoped>\n",
       "    .dataframe tbody tr th:only-of-type {\n",
       "        vertical-align: middle;\n",
       "    }\n",
       "\n",
       "    .dataframe tbody tr th {\n",
       "        vertical-align: top;\n",
       "    }\n",
       "\n",
       "    .dataframe thead th {\n",
       "        text-align: right;\n",
       "    }\n",
       "</style>\n",
       "<table border=\"1\" class=\"dataframe\">\n",
       "  <thead>\n",
       "    <tr style=\"text-align: right;\">\n",
       "      <th></th>\n",
       "      <th>Unnamed: 0</th>\n",
       "      <th>Country</th>\n",
       "      <th>Confirmed</th>\n",
       "      <th>proportion infected</th>\n",
       "      <th>category</th>\n",
       "      <th>deaths_prop</th>\n",
       "      <th>Deaths</th>\n",
       "      <th>GDP</th>\n",
       "      <th>Population Density</th>\n",
       "      <th>2021 Population</th>\n",
       "      <th>Area</th>\n",
       "      <th>Literacy</th>\n",
       "      <th>Employment</th>\n",
       "      <th>Population 65 +</th>\n",
       "      <th>Foreigners</th>\n",
       "    </tr>\n",
       "  </thead>\n",
       "  <tbody>\n",
       "    <tr>\n",
       "      <th>0</th>\n",
       "      <td>0</td>\n",
       "      <td>Albania</td>\n",
       "      <td>165096</td>\n",
       "      <td>5746.60</td>\n",
       "      <td>high</td>\n",
       "      <td>90.534656</td>\n",
       "      <td>2601</td>\n",
       "      <td>14.80</td>\n",
       "      <td>100</td>\n",
       "      <td>2872933</td>\n",
       "      <td>28748</td>\n",
       "      <td>0.972489</td>\n",
       "      <td>0.707484</td>\n",
       "      <td>0.147591</td>\n",
       "      <td>0.018337</td>\n",
       "    </tr>\n",
       "    <tr>\n",
       "      <th>1</th>\n",
       "      <td>1</td>\n",
       "      <td>Algeria</td>\n",
       "      <td>202122</td>\n",
       "      <td>453.02</td>\n",
       "      <td>low</td>\n",
       "      <td>12.862919</td>\n",
       "      <td>5739</td>\n",
       "      <td>145.00</td>\n",
       "      <td>19</td>\n",
       "      <td>44616624</td>\n",
       "      <td>2381741</td>\n",
       "      <td>0.774214</td>\n",
       "      <td>0.896187</td>\n",
       "      <td>0.053393</td>\n",
       "      <td>0.003512</td>\n",
       "    </tr>\n",
       "    <tr>\n",
       "      <th>2</th>\n",
       "      <td>2</td>\n",
       "      <td>Antigua and Barbuda</td>\n",
       "      <td>2625</td>\n",
       "      <td>2658.74</td>\n",
       "      <td>low</td>\n",
       "      <td>57.732627</td>\n",
       "      <td>57</td>\n",
       "      <td>1.42</td>\n",
       "      <td>223</td>\n",
       "      <td>98731</td>\n",
       "      <td>442</td>\n",
       "      <td>0.990000</td>\n",
       "      <td>0.994403</td>\n",
       "      <td>0.088592</td>\n",
       "      <td>0.296995</td>\n",
       "    </tr>\n",
       "    <tr>\n",
       "      <th>3</th>\n",
       "      <td>3</td>\n",
       "      <td>Argentina</td>\n",
       "      <td>5245265</td>\n",
       "      <td>11501.30</td>\n",
       "      <td>high</td>\n",
       "      <td>251.467872</td>\n",
       "      <td>114684</td>\n",
       "      <td>383.00</td>\n",
       "      <td>16</td>\n",
       "      <td>45605826</td>\n",
       "      <td>2780400</td>\n",
       "      <td>0.980849</td>\n",
       "      <td>0.938704</td>\n",
       "      <td>0.116861</td>\n",
       "      <td>0.045017</td>\n",
       "    </tr>\n",
       "    <tr>\n",
       "      <th>4</th>\n",
       "      <td>4</td>\n",
       "      <td>Armenia</td>\n",
       "      <td>254709</td>\n",
       "      <td>8581.47</td>\n",
       "      <td>high</td>\n",
       "      <td>174.554525</td>\n",
       "      <td>5181</td>\n",
       "      <td>12.65</td>\n",
       "      <td>100</td>\n",
       "      <td>2968127</td>\n",
       "      <td>29743</td>\n",
       "      <td>0.996145</td>\n",
       "      <td>0.783675</td>\n",
       "      <td>0.119087</td>\n",
       "      <td>0.065531</td>\n",
       "    </tr>\n",
       "    <tr>\n",
       "      <th>...</th>\n",
       "      <td>...</td>\n",
       "      <td>...</td>\n",
       "      <td>...</td>\n",
       "      <td>...</td>\n",
       "      <td>...</td>\n",
       "      <td>...</td>\n",
       "      <td>...</td>\n",
       "      <td>...</td>\n",
       "      <td>...</td>\n",
       "      <td>...</td>\n",
       "      <td>...</td>\n",
       "      <td>...</td>\n",
       "      <td>...</td>\n",
       "      <td>...</td>\n",
       "      <td>...</td>\n",
       "    </tr>\n",
       "    <tr>\n",
       "      <th>144</th>\n",
       "      <td>144</td>\n",
       "      <td>Uruguay</td>\n",
       "      <td>388068</td>\n",
       "      <td>11134.90</td>\n",
       "      <td>high</td>\n",
       "      <td>173.564933</td>\n",
       "      <td>6049</td>\n",
       "      <td>53.63</td>\n",
       "      <td>19</td>\n",
       "      <td>3485151</td>\n",
       "      <td>181034</td>\n",
       "      <td>0.949552</td>\n",
       "      <td>0.936522</td>\n",
       "      <td>0.147933</td>\n",
       "      <td>0.023435</td>\n",
       "    </tr>\n",
       "    <tr>\n",
       "      <th>145</th>\n",
       "      <td>145</td>\n",
       "      <td>Venezuela</td>\n",
       "      <td>358462</td>\n",
       "      <td>1248.78</td>\n",
       "      <td>low</td>\n",
       "      <td>15.140244</td>\n",
       "      <td>4346</td>\n",
       "      <td>482.00</td>\n",
       "      <td>31</td>\n",
       "      <td>28704954</td>\n",
       "      <td>916445</td>\n",
       "      <td>0.950790</td>\n",
       "      <td>0.911165</td>\n",
       "      <td>0.072738</td>\n",
       "      <td>0.042478</td>\n",
       "    </tr>\n",
       "    <tr>\n",
       "      <th>146</th>\n",
       "      <td>146</td>\n",
       "      <td>Vietnam</td>\n",
       "      <td>718963</td>\n",
       "      <td>732.37</td>\n",
       "      <td>low</td>\n",
       "      <td>18.112673</td>\n",
       "      <td>17781</td>\n",
       "      <td>271.00</td>\n",
       "      <td>296</td>\n",
       "      <td>98168833</td>\n",
       "      <td>331212</td>\n",
       "      <td>0.938753</td>\n",
       "      <td>0.970942</td>\n",
       "      <td>0.077089</td>\n",
       "      <td>0.089552</td>\n",
       "    </tr>\n",
       "    <tr>\n",
       "      <th>147</th>\n",
       "      <td>147</td>\n",
       "      <td>Zambia</td>\n",
       "      <td>208676</td>\n",
       "      <td>1102.90</td>\n",
       "      <td>low</td>\n",
       "      <td>19.232953</td>\n",
       "      <td>3639</td>\n",
       "      <td>19.32</td>\n",
       "      <td>25</td>\n",
       "      <td>18920651</td>\n",
       "      <td>752612</td>\n",
       "      <td>0.815428</td>\n",
       "      <td>0.877331</td>\n",
       "      <td>0.026461</td>\n",
       "      <td>0.009907</td>\n",
       "    </tr>\n",
       "    <tr>\n",
       "      <th>148</th>\n",
       "      <td>148</td>\n",
       "      <td>Zimbabwe</td>\n",
       "      <td>128804</td>\n",
       "      <td>853.45</td>\n",
       "      <td>low</td>\n",
       "      <td>30.426371</td>\n",
       "      <td>4592</td>\n",
       "      <td>16.77</td>\n",
       "      <td>39</td>\n",
       "      <td>15092171</td>\n",
       "      <td>390757</td>\n",
       "      <td>0.865000</td>\n",
       "      <td>0.883405</td>\n",
       "      <td>0.040709</td>\n",
       "      <td>0.089552</td>\n",
       "    </tr>\n",
       "  </tbody>\n",
       "</table>\n",
       "<p>149 rows × 15 columns</p>\n",
       "</div>"
      ],
      "text/plain": [
       "     Unnamed: 0              Country  Confirmed  proportion infected category  \\\n",
       "0             0              Albania     165096              5746.60     high   \n",
       "1             1              Algeria     202122               453.02      low   \n",
       "2             2  Antigua and Barbuda       2625              2658.74      low   \n",
       "3             3            Argentina    5245265             11501.30     high   \n",
       "4             4              Armenia     254709              8581.47     high   \n",
       "..          ...                  ...        ...                  ...      ...   \n",
       "144         144              Uruguay     388068             11134.90     high   \n",
       "145         145            Venezuela     358462              1248.78      low   \n",
       "146         146              Vietnam     718963               732.37      low   \n",
       "147         147               Zambia     208676              1102.90      low   \n",
       "148         148             Zimbabwe     128804               853.45      low   \n",
       "\n",
       "     deaths_prop  Deaths     GDP  Population Density  2021 Population  \\\n",
       "0      90.534656    2601   14.80                 100          2872933   \n",
       "1      12.862919    5739  145.00                  19         44616624   \n",
       "2      57.732627      57    1.42                 223            98731   \n",
       "3     251.467872  114684  383.00                  16         45605826   \n",
       "4     174.554525    5181   12.65                 100          2968127   \n",
       "..           ...     ...     ...                 ...              ...   \n",
       "144   173.564933    6049   53.63                  19          3485151   \n",
       "145    15.140244    4346  482.00                  31         28704954   \n",
       "146    18.112673   17781  271.00                 296         98168833   \n",
       "147    19.232953    3639   19.32                  25         18920651   \n",
       "148    30.426371    4592   16.77                  39         15092171   \n",
       "\n",
       "        Area  Literacy  Employment  Population 65 +  Foreigners  \n",
       "0      28748  0.972489    0.707484         0.147591    0.018337  \n",
       "1    2381741  0.774214    0.896187         0.053393    0.003512  \n",
       "2        442  0.990000    0.994403         0.088592    0.296995  \n",
       "3    2780400  0.980849    0.938704         0.116861    0.045017  \n",
       "4      29743  0.996145    0.783675         0.119087    0.065531  \n",
       "..       ...       ...         ...              ...         ...  \n",
       "144   181034  0.949552    0.936522         0.147933    0.023435  \n",
       "145   916445  0.950790    0.911165         0.072738    0.042478  \n",
       "146   331212  0.938753    0.970942         0.077089    0.089552  \n",
       "147   752612  0.815428    0.877331         0.026461    0.009907  \n",
       "148   390757  0.865000    0.883405         0.040709    0.089552  \n",
       "\n",
       "[149 rows x 15 columns]"
      ]
     },
     "execution_count": 116,
     "metadata": {},
     "output_type": "execute_result"
    }
   ],
   "source": [
    "categories = list()\n",
    "for i in df['deaths_prop'].values:\n",
    "    if i > 60:\n",
    "        categories.append('high')\n",
    "    else:\n",
    "        categories.append('low')\n",
    "    \n",
    "df.insert(4, \"category\", categories, True)\n",
    "df"
   ]
  },
  {
   "cell_type": "code",
   "execution_count": 117,
   "id": "e192effb",
   "metadata": {},
   "outputs": [],
   "source": [
    "data = df[['GDP', 'Population Density', '2021 Population', 'Literacy', 'Employment', 'Population 65 +', 'Foreigners']]\n",
    "labels = df['category']"
   ]
  },
  {
   "cell_type": "code",
   "execution_count": 118,
   "id": "6ce3c851",
   "metadata": {},
   "outputs": [],
   "source": [
    "train_set_data = data[:80]\n",
    "train_set_labels = labels[:80]\n",
    "test_set_data = data[80:]\n",
    "test_set_labels = labels[80:]"
   ]
  },
  {
   "cell_type": "code",
   "execution_count": 119,
   "id": "ec7ebe67",
   "metadata": {},
   "outputs": [
    {
     "data": {
      "text/plain": [
       "LogisticRegression(max_iter=1000, multi_class='multinomial')"
      ]
     },
     "execution_count": 119,
     "metadata": {},
     "output_type": "execute_result"
    }
   ],
   "source": [
    "from sklearn.linear_model import LogisticRegression\n",
    "X, y = train_set_data, train_set_labels\n",
    "model = LogisticRegression(multi_class='multinomial', max_iter = 1000)\n",
    "model.fit(X, y)"
   ]
  },
  {
   "cell_type": "code",
   "execution_count": 120,
   "id": "5f9a3bcd",
   "metadata": {},
   "outputs": [
    {
     "name": "stdout",
     "output_type": "stream",
     "text": [
      "['high' 'low']\n",
      "[[-1.47676925e-13 -3.69895685e-14  1.42574607e-09 -2.88011584e-16\n",
      "  -1.37780738e-16 -4.83246804e-17 -6.05242566e-17]]\n"
     ]
    }
   ],
   "source": [
    "print(model.classes_)\n",
    "print(model.coef_)"
   ]
  },
  {
   "cell_type": "code",
   "execution_count": 121,
   "id": "42f80c4f",
   "metadata": {},
   "outputs": [
    {
     "name": "stdout",
     "output_type": "stream",
     "text": [
      "X=Maldives, Predicted=low, Reel=low\n",
      "X=Mali, Predicted=low, Reel=low\n",
      "X=Malta, Predicted=low, Reel=high\n",
      "X=Marshall Islands, Predicted=low, Reel=low\n",
      "X=Mauritania, Predicted=low, Reel=low\n",
      "X=Mauritius, Predicted=low, Reel=low\n",
      "X=Mexico, Predicted=low, Reel=high\n",
      "X=Micronesia, Predicted=low, Reel=low\n",
      "X=Moldova, Predicted=low, Reel=high\n",
      "X=Mongolia, Predicted=low, Reel=low\n",
      "X=Montenegro, Predicted=low, Reel=high\n",
      "X=Morocco, Predicted=low, Reel=low\n",
      "X=Mozambique, Predicted=low, Reel=low\n",
      "X=Namibia, Predicted=low, Reel=high\n",
      "X=Nepal, Predicted=low, Reel=low\n",
      "X=Netherlands, Predicted=low, Reel=high\n",
      "X=New Zealand, Predicted=low, Reel=low\n",
      "X=Nicaragua, Predicted=low, Reel=low\n",
      "X=Niger, Predicted=low, Reel=low\n",
      "X=Nigeria, Predicted=low, Reel=low\n",
      "X=North Macedonia, Predicted=low, Reel=high\n",
      "X=Norway, Predicted=low, Reel=low\n",
      "X=Oman, Predicted=low, Reel=high\n",
      "X=Pakistan, Predicted=low, Reel=low\n",
      "X=Palau, Predicted=low, Reel=low\n",
      "X=Panama, Predicted=low, Reel=high\n",
      "X=Papua New Guinea, Predicted=low, Reel=low\n",
      "X=Paraguay, Predicted=low, Reel=high\n",
      "X=Peru, Predicted=low, Reel=high\n",
      "X=Philippines, Predicted=low, Reel=low\n",
      "X=Poland, Predicted=low, Reel=high\n",
      "X=Portugal, Predicted=low, Reel=high\n",
      "X=Qatar, Predicted=low, Reel=low\n",
      "X=Romania, Predicted=low, Reel=high\n",
      "X=Russia, Predicted=low, Reel=high\n",
      "X=Rwanda, Predicted=low, Reel=low\n",
      "X=Saint Lucia, Predicted=low, Reel=high\n",
      "X=Saint Vincent and the Grenadines, Predicted=low, Reel=low\n",
      "X=Samoa, Predicted=low, Reel=low\n",
      "X=Sao Tome and Principe, Predicted=low, Reel=low\n",
      "X=Saudi Arabia, Predicted=low, Reel=low\n",
      "X=Serbia, Predicted=low, Reel=high\n",
      "X=Seychelles, Predicted=low, Reel=high\n",
      "X=Sierra Leone, Predicted=low, Reel=low\n",
      "X=Singapore, Predicted=low, Reel=low\n",
      "X=Slovakia, Predicted=low, Reel=high\n",
      "X=Slovenia, Predicted=low, Reel=high\n",
      "X=South Africa, Predicted=low, Reel=high\n",
      "X=South Korea, Predicted=low, Reel=low\n",
      "X=Spain, Predicted=low, Reel=high\n",
      "X=Sri Lanka, Predicted=low, Reel=low\n",
      "X=Suriname, Predicted=low, Reel=high\n",
      "X=Sweden, Predicted=low, Reel=high\n",
      "X=Switzerland, Predicted=low, Reel=high\n",
      "X=Tajikistan, Predicted=low, Reel=low\n",
      "X=Tanzania, Predicted=low, Reel=low\n",
      "X=Thailand, Predicted=low, Reel=low\n",
      "X=Timor-Leste, Predicted=low, Reel=low\n",
      "X=Tunisia, Predicted=low, Reel=high\n",
      "X=Turkey, Predicted=low, Reel=high\n",
      "X=Uganda, Predicted=low, Reel=low\n",
      "X=Ukraine, Predicted=low, Reel=high\n",
      "X=United Kingdom, Predicted=low, Reel=high\n",
      "X=United States, Predicted=low, Reel=high\n",
      "X=Uruguay, Predicted=low, Reel=high\n",
      "X=Venezuela, Predicted=low, Reel=low\n",
      "X=Vietnam, Predicted=low, Reel=low\n",
      "X=Zambia, Predicted=low, Reel=low\n",
      "X=Zimbabwe, Predicted=low, Reel=low\n",
      "31\n"
     ]
    }
   ],
   "source": [
    "test_set_labels_new = model.predict(test_set_data)\n",
    "count = 0\n",
    "countries = df['Country'].values\n",
    "test_set_labels = test_set_labels.values\n",
    "for i in range(len(test_set_data)):\n",
    "    print(\"X=%s, Predicted=%s, Reel=%s\" % (countries[i+80], test_set_labels_new[i], test_set_labels[i]))\n",
    "    if test_set_labels_new[i] != test_set_labels[i]:\n",
    "        count += 1\n",
    "print(count)"
   ]
  },
  {
   "cell_type": "code",
   "execution_count": 122,
   "id": "94b6c7e8",
   "metadata": {},
   "outputs": [
    {
     "name": "stdout",
     "output_type": "stream",
     "text": [
      "0.5507246376811594\n"
     ]
    }
   ],
   "source": [
    "print(model.score(test_set_data, test_set_labels))"
   ]
  },
  {
   "cell_type": "code",
   "execution_count": null,
   "id": "ba7573b9",
   "metadata": {},
   "outputs": [],
   "source": []
  },
  {
   "cell_type": "code",
   "execution_count": null,
   "id": "5cbb6296",
   "metadata": {},
   "outputs": [],
   "source": []
  }
 ],
 "metadata": {
  "kernelspec": {
   "display_name": "Python 3",
   "language": "python",
   "name": "python3"
  },
  "language_info": {
   "codemirror_mode": {
    "name": "ipython",
    "version": 3
   },
   "file_extension": ".py",
   "mimetype": "text/x-python",
   "name": "python",
   "nbconvert_exporter": "python",
   "pygments_lexer": "ipython3",
   "version": "3.6.5"
  }
 },
 "nbformat": 4,
 "nbformat_minor": 5
}
