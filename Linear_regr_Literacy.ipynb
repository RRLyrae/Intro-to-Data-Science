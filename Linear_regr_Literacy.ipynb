{
 "cells": [
  {
   "cell_type": "markdown",
   "id": "c858d66d",
   "metadata": {},
   "source": [
    "## Linear Regression with supervised machine learning\n",
    "\n",
    "(Linear regression analysis is used to predict the value of a variable based on the value of another variable. The variable you want to predict is called the dependent variable. The variable you are using to predict the other variable's value is called the independent variable.\n",
    "\n",
    "This form of analysis estimates the coefficients of the linear equation, involving one or more independent variables that best predict the value of the dependent variable. Linear regression fits a straight line or surface that minimizes the discrepancies between predicted and actual output values.) "
   ]
  },
  {
   "cell_type": "markdown",
   "id": "7e3b7a20",
   "metadata": {},
   "source": [
    "-------------------------------------------------------------------------------------------------------------------------------\n",
    "\n",
    "Importing modules, reading the data file and having a quick look at what's in it:"
   ]
  },
  {
   "cell_type": "code",
   "execution_count": 43,
   "id": "10aa017a",
   "metadata": {
    "scrolled": true
   },
   "outputs": [
    {
     "name": "stdout",
     "output_type": "stream",
     "text": [
      "(149, 13)\n"
     ]
    },
    {
     "data": {
      "text/html": [
       "<div>\n",
       "<style scoped>\n",
       "    .dataframe tbody tr th:only-of-type {\n",
       "        vertical-align: middle;\n",
       "    }\n",
       "\n",
       "    .dataframe tbody tr th {\n",
       "        vertical-align: top;\n",
       "    }\n",
       "\n",
       "    .dataframe thead th {\n",
       "        text-align: right;\n",
       "    }\n",
       "</style>\n",
       "<table border=\"1\" class=\"dataframe\">\n",
       "  <thead>\n",
       "    <tr style=\"text-align: right;\">\n",
       "      <th></th>\n",
       "      <th>Unnamed: 0</th>\n",
       "      <th>Country</th>\n",
       "      <th>Confirmed</th>\n",
       "      <th>proportion infected</th>\n",
       "      <th>Deaths</th>\n",
       "      <th>GDP</th>\n",
       "      <th>Population Density</th>\n",
       "      <th>2021 Population</th>\n",
       "      <th>Area</th>\n",
       "      <th>Literacy</th>\n",
       "      <th>Employment</th>\n",
       "      <th>Population 65 +</th>\n",
       "      <th>Foreigners</th>\n",
       "    </tr>\n",
       "  </thead>\n",
       "  <tbody>\n",
       "    <tr>\n",
       "      <th>0</th>\n",
       "      <td>0</td>\n",
       "      <td>Albania</td>\n",
       "      <td>165096</td>\n",
       "      <td>5746.60</td>\n",
       "      <td>2601</td>\n",
       "      <td>14.80</td>\n",
       "      <td>100</td>\n",
       "      <td>2872933</td>\n",
       "      <td>28748</td>\n",
       "      <td>0.972489</td>\n",
       "      <td>0.707484</td>\n",
       "      <td>0.147591</td>\n",
       "      <td>0.018337</td>\n",
       "    </tr>\n",
       "    <tr>\n",
       "      <th>1</th>\n",
       "      <td>1</td>\n",
       "      <td>Algeria</td>\n",
       "      <td>202122</td>\n",
       "      <td>453.02</td>\n",
       "      <td>5739</td>\n",
       "      <td>145.00</td>\n",
       "      <td>19</td>\n",
       "      <td>44616624</td>\n",
       "      <td>2381741</td>\n",
       "      <td>0.774214</td>\n",
       "      <td>0.896187</td>\n",
       "      <td>0.053393</td>\n",
       "      <td>0.003512</td>\n",
       "    </tr>\n",
       "    <tr>\n",
       "      <th>2</th>\n",
       "      <td>2</td>\n",
       "      <td>Antigua and Barbuda</td>\n",
       "      <td>2625</td>\n",
       "      <td>2658.74</td>\n",
       "      <td>57</td>\n",
       "      <td>1.42</td>\n",
       "      <td>223</td>\n",
       "      <td>98731</td>\n",
       "      <td>442</td>\n",
       "      <td>0.990000</td>\n",
       "      <td>0.994403</td>\n",
       "      <td>0.088592</td>\n",
       "      <td>0.296995</td>\n",
       "    </tr>\n",
       "    <tr>\n",
       "      <th>3</th>\n",
       "      <td>3</td>\n",
       "      <td>Argentina</td>\n",
       "      <td>5245265</td>\n",
       "      <td>11501.30</td>\n",
       "      <td>114684</td>\n",
       "      <td>383.00</td>\n",
       "      <td>16</td>\n",
       "      <td>45605826</td>\n",
       "      <td>2780400</td>\n",
       "      <td>0.980849</td>\n",
       "      <td>0.938704</td>\n",
       "      <td>0.116861</td>\n",
       "      <td>0.045017</td>\n",
       "    </tr>\n",
       "    <tr>\n",
       "      <th>4</th>\n",
       "      <td>4</td>\n",
       "      <td>Armenia</td>\n",
       "      <td>254709</td>\n",
       "      <td>8581.47</td>\n",
       "      <td>5181</td>\n",
       "      <td>12.65</td>\n",
       "      <td>100</td>\n",
       "      <td>2968127</td>\n",
       "      <td>29743</td>\n",
       "      <td>0.996145</td>\n",
       "      <td>0.783675</td>\n",
       "      <td>0.119087</td>\n",
       "      <td>0.065531</td>\n",
       "    </tr>\n",
       "  </tbody>\n",
       "</table>\n",
       "</div>"
      ],
      "text/plain": [
       "   Unnamed: 0              Country  Confirmed  proportion infected  Deaths  \\\n",
       "0           0              Albania     165096              5746.60    2601   \n",
       "1           1              Algeria     202122               453.02    5739   \n",
       "2           2  Antigua and Barbuda       2625              2658.74      57   \n",
       "3           3            Argentina    5245265             11501.30  114684   \n",
       "4           4              Armenia     254709              8581.47    5181   \n",
       "\n",
       "      GDP  Population Density  2021 Population     Area  Literacy  Employment  \\\n",
       "0   14.80                 100          2872933    28748  0.972489    0.707484   \n",
       "1  145.00                  19         44616624  2381741  0.774214    0.896187   \n",
       "2    1.42                 223            98731      442  0.990000    0.994403   \n",
       "3  383.00                  16         45605826  2780400  0.980849    0.938704   \n",
       "4   12.65                 100          2968127    29743  0.996145    0.783675   \n",
       "\n",
       "   Population 65 +  Foreigners  \n",
       "0         0.147591    0.018337  \n",
       "1         0.053393    0.003512  \n",
       "2         0.088592    0.296995  \n",
       "3         0.116861    0.045017  \n",
       "4         0.119087    0.065531  "
      ]
     },
     "execution_count": 43,
     "metadata": {},
     "output_type": "execute_result"
    }
   ],
   "source": [
    "import pandas as pd\n",
    "import numpy as np\n",
    "from sklearn.linear_model import LinearRegression\n",
    "from sklearn.model_selection import train_test_split\n",
    "from matplotlib import pyplot as plt\n",
    "%matplotlib inline\n",
    "\n",
    "data = pd.read_csv(r'C:\\Users\\Diana Crowe\\Documents\\Classes\\Introduction to Data Science\\Mini-Project\\covid_data_22-09-2021_2-full.csv')\n",
    "print(data.shape)\n",
    "data.head()\n"
   ]
  },
  {
   "cell_type": "markdown",
   "id": "67e137a7",
   "metadata": {},
   "source": [
    "We found a moderate correlation between the \"proportion infected\" and \"Literacy\", so we will work with those two columns:"
   ]
  },
  {
   "cell_type": "code",
   "execution_count": 5,
   "id": "409a358d",
   "metadata": {},
   "outputs": [],
   "source": [
    "x = data['proportion infected']\n",
    "y1 = data['Literacy']"
   ]
  },
  {
   "cell_type": "markdown",
   "id": "a1fe3a59",
   "metadata": {},
   "source": [
    "Making a quick plot to see what the two variables look like together:"
   ]
  },
  {
   "cell_type": "code",
   "execution_count": 16,
   "id": "79c710de",
   "metadata": {
    "scrolled": true
   },
   "outputs": [
    {
     "data": {
      "image/png": "[encoded data removed]",
      "text/plain": [
       "<Figure size 864x576 with 1 Axes>"
      ]
     },
     "metadata": {
      "needs_background": "light"
     },
     "output_type": "display_data"
    }
   ],
   "source": [
    "data.plot(kind = 'scatter', x = 'proportion infected', y = 'Literacy',figsize=(12,8))\n",
    "plt.show()"
   ]
  },
  {
   "cell_type": "markdown",
   "id": "b91a5423",
   "metadata": {},
   "source": [
    "Splitting the data into training and testing data sets:"
   ]
  },
  {
   "cell_type": "code",
   "execution_count": 13,
   "id": "8b747d78",
   "metadata": {},
   "outputs": [],
   "source": [
    "# test train split, proportion infected and Literacy\n",
    "X_train, X_test, y1_train, y1_test = train_test_split(x,y1)"
   ]
  },
  {
   "cell_type": "markdown",
   "id": "2f97d2da",
   "metadata": {},
   "source": [
    "Visualization of the two sets that we just created:"
   ]
  },
  {
   "cell_type": "code",
   "execution_count": 30,
   "id": "dd4982d0",
   "metadata": {},
   "outputs": [
    {
     "data": {
      "image/png": "[encoded data removed]",
      "text/plain": [
       "<Figure size 864x576 with 1 Axes>"
      ]
     },
     "metadata": {
      "needs_background": "light"
     },
     "output_type": "display_data"
    }
   ],
   "source": [
    "# visualization of proportion infected and Literacy\n",
    "plt.figure(figsize=(12,8))\n",
    "plt.scatter(X_train, y1_train, label=\"Training data\", color=\"g\", alpha=.7)\n",
    "plt.scatter(X_test, y1_test, label=\"Test data\", color=\"b\", alpha=.7)\n",
    "plt.legend()\n",
    "plt.title('test train split')\n",
    "plt.show()"
   ]
  },
  {
   "cell_type": "markdown",
   "id": "77468eff",
   "metadata": {},
   "source": [
    "Now we fit the training data in the model."
   ]
  },
  {
   "cell_type": "code",
   "execution_count": 34,
   "id": "cf497817",
   "metadata": {},
   "outputs": [
    {
     "data": {
      "text/plain": [
       "LinearRegression()"
      ]
     },
     "execution_count": 34,
     "metadata": {},
     "output_type": "execute_result"
    }
   ],
   "source": [
    "# linear model proportion infected & Literacy\n",
    "LR1 = LinearRegression()\n",
    "LR1.fit(X_train.values.reshape(-1,1), y1_train.values)"
   ]
  },
  {
   "cell_type": "markdown",
   "id": "11e02822",
   "metadata": {},
   "source": [
    "Now to have a look at the prediction:"
   ]
  },
  {
   "cell_type": "code",
   "execution_count": 31,
   "id": "078a4675",
   "metadata": {},
   "outputs": [
    {
     "data": {
      "text/plain": [
       "<function matplotlib.pyplot.show(close=None, block=None)>"
      ]
     },
     "execution_count": 31,
     "metadata": {},
     "output_type": "execute_result"
    },
    {
     "data": {
      "image/png": "[encoded data removed]",
      "text/plain": [
       "<Figure size 864x576 with 1 Axes>"
      ]
     },
     "metadata": {
      "needs_background": "light"
     },
     "output_type": "display_data"
    }
   ],
   "source": [
    "# predict proportion infected & Literacy\n",
    "prediction1 = LR1.predict(X_test.values.reshape(-1,1))\n",
    "\n",
    "# plot of prediction\n",
    "plt.figure(figsize=(12,8))\n",
    "plt.plot(X_test, prediction1, label='Linear regression', color='r')\n",
    "plt.scatter(X_test, y1_test, label='test data', color='blue', alpha=.7)\n",
    "plt.legend()\n",
    "plt.show"
   ]
  },
  {
   "cell_type": "markdown",
   "id": "ba218239",
   "metadata": {},
   "source": [
    "We now score the model to see how well it did:\n",
    "\n",
    "RMSE (root mean squared error): RMSE values between 0.2 and 0.5 shows that the model can relatively predict the data accurately. In addition, Adjusted R-squared more than 0.75 is a very good value for showing the accuracy. In some cases, Adjusted R-squared of 0.4 or more is acceptable as well.\n",
    "\n",
    "R2 (R squared) score: the best possible score is 1.0 and it can be negative (because the model can be arbitrarily worse).\n"
   ]
  },
  {
   "cell_type": "code",
   "execution_count": 53,
   "id": "e47ab9f3",
   "metadata": {
    "scrolled": true
   },
   "outputs": [
    {
     "name": "stdout",
     "output_type": "stream",
     "text": [
      "The model performance for training set:\n",
      "--------------------------------------\n",
      "RMSE is 0.16655469687384963\n",
      "R2 score is 0.26849053821132685\n",
      "\n",
      "\n",
      "The model performance for testing set:\n",
      "--------------------------------------\n",
      "RMSE is 0.12826631191061863\n",
      "R2 score is 0.20602211525643122\n"
     ]
    }
   ],
   "source": [
    "from sklearn.metrics import mean_squared_error\n",
    "from sklearn.metrics import r2_score\n",
    "\n",
    "# model evaluation for training set:\n",
    "y_train_predict = LR1.predict(X_train.values.reshape(-1,1))\n",
    "rmse = (np.sqrt(mean_squared_error(y1_train, y_train_predict)))\n",
    "r2 = r2_score(y1_train.values.reshape(-1,1), y_train_predict)\n",
    "\n",
    "print(\"The model performance for training set:\")\n",
    "print(\"--------------------------------------\")\n",
    "print('RMSE is {}'.format(rmse))\n",
    "print('R2 score is {}'.format(r2))\n",
    "print(\"\\n\")\n",
    "\n",
    "# model evaluation for testing set:\n",
    "y1_test_predict = LR1.predict(X_test.values.reshape(-1,1))\n",
    "rmse = (np.sqrt(mean_squared_error(y1_test, y1_test_predict)))\n",
    "r2 = r2_score(y1_test.values.reshape(-1,1), y1_test_predict)\n",
    "\n",
    "print(\"The model performance for testing set:\")\n",
    "print(\"--------------------------------------\")\n",
    "print('RMSE is {}'.format(rmse))\n",
    "print('R2 score is {}'.format(r2))\n"
   ]
  },
  {
   "cell_type": "markdown",
   "id": "778656eb",
   "metadata": {},
   "source": []
  }
 ],
 "metadata": {
  "kernelspec": {
   "display_name": "Python 3 (ipykernel)",
   "language": "python",
   "name": "python3"
  },
  "language_info": {
   "codemirror_mode": {
    "name": "ipython",
    "version": 3
   },
   "file_extension": ".py",
   "mimetype": "text/x-python",
   "name": "python",
   "nbconvert_exporter": "python",
   "pygments_lexer": "ipython3",
   "version": "3.9.7"
  }
 },
 "nbformat": 4,
 "nbformat_minor": 5
}
